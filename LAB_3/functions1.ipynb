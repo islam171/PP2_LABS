{
 "cells": [
  {
   "cell_type": "code",
   "execution_count": 2,
   "metadata": {},
   "outputs": [
    {
     "name": "stdout",
     "output_type": "stream",
     "text": [
      "2834.9523099999997\n"
     ]
    }
   ],
   "source": [
    "def convertOunces(ounces):\n",
    "    return ounces * 28.3495231\n",
    "a = int(input(\"Enter weight\"))\n",
    "print(convertOunces(a))"
   ]
  },
  {
   "cell_type": "code",
   "execution_count": 8,
   "metadata": {},
   "outputs": [
    {
     "name": "stdout",
     "output_type": "stream",
     "text": [
      "-6.666666666666667\n"
     ]
    }
   ],
   "source": [
    "def fahrenheitToCelsius(F):\n",
    "    C = (5 / 9) * (F - 32)\n",
    "    return C\n",
    "\n",
    "a = int(input(\"Enter fahrenheit degrees: \"))\n",
    "print(fahrenheitToCelsius(a))"
   ]
  },
  {
   "cell_type": "code",
   "execution_count": 12,
   "metadata": {},
   "outputs": [
    {
     "data": {
      "text/plain": [
       "'Chicken: 23.0, Rabbit: 12.0'"
      ]
     },
     "execution_count": 12,
     "metadata": {},
     "output_type": "execute_result"
    }
   ],
   "source": [
    "# Rabbit and Chicken\n",
    "def solve(numheads, numlegs):\n",
    "    for i in range(numlegs):\n",
    "        if i % 4 == 0:\n",
    "            numLegsRabbit = i\n",
    "            numLegsChicken = numlegs - numLegsRabbit\n",
    "            numChicken = numLegsChicken / 2\n",
    "            numRabbit = numLegsRabbit / 4\n",
    "            if(numChicken + numRabbit == numheads):\n",
    "                b = \"Chicken: \" + str(numChicken) + \", Rabbit: \" + str(numRabbit)\n",
    "                return b\n",
    "    return 0\n",
    "\n",
    "solve(35, 94)"
   ]
  },
  {
   "cell_type": "code",
   "execution_count": 11,
   "metadata": {},
   "outputs": [
    {
     "name": "stdout",
     "output_type": "stream",
     "text": [
      "[2, 3, 5, 7, 11, 13]\n"
     ]
    }
   ],
   "source": [
    "def filter_prime(list):\n",
    "    newList = []\n",
    "    for i in list:\n",
    "        isPrime = True\n",
    "        if(i < 2):\n",
    "            isPrime = False\n",
    "        for j in range(2, i):\n",
    "            if(i % j == 0):\n",
    "                isPrime = False \n",
    "        if(isPrime):\n",
    "            newList.append(i)\n",
    "    return newList                 \n",
    "b = filter_prime([1,2,3,4,5,6,7,8,9,10,11,12,13])\n",
    "print(b)"
   ]
  },
  {
   "cell_type": "code",
   "execution_count": 5,
   "metadata": {},
   "outputs": [
    {
     "name": "stdout",
     "output_type": "stream",
     "text": [
      "('a', 'b', 'c')\n",
      "('a', 'c', 'b')\n",
      "('b', 'a', 'c')\n",
      "('b', 'c', 'a')\n",
      "('c', 'a', 'b')\n",
      "('c', 'b', 'a')\n"
     ]
    }
   ],
   "source": [
    "from itertools import permutations \n",
    "\n",
    "def next_permutation(string):\n",
    "\n",
    "    perm = permutations(string) \n",
    " \n",
    "    for i in list(perm): \n",
    "        print (i) \n",
    "\n",
    "next_permutation(\"abc\")"
   ]
  },
  {
   "cell_type": "code",
   "execution_count": 56,
   "metadata": {},
   "outputs": [
    {
     "name": "stdout",
     "output_type": "stream",
     "text": [
      "['world', 'hello']\n"
     ]
    }
   ],
   "source": [
    "def reverseString(string):\n",
    "    list1 = string.split(\" \")\n",
    "    print(list1[::-1])\n",
    "\n",
    "reverseString(\"hello world\")"
   ]
  },
  {
   "cell_type": "code",
   "execution_count": 87,
   "metadata": {},
   "outputs": [
    {
     "data": {
      "text/plain": [
       "False"
      ]
     },
     "execution_count": 87,
     "metadata": {},
     "output_type": "execute_result"
    }
   ],
   "source": [
    "def has_33(nums):\n",
    "    for i in range(len(nums)):\n",
    "        if(nums[i] == 3):\n",
    "            if(i > 0):\n",
    "                if(nums[i-1] == 3):\n",
    "                    return True\n",
    "            if(len(nums)-1 > i):\n",
    "                if(nums[i+1] == 3):\n",
    "                    return True\n",
    "            \n",
    "\n",
    "    return False   \n",
    "has_33([3,1,3,4,3])         \n"
   ]
  },
  {
   "cell_type": "code",
   "execution_count": null,
   "metadata": {},
   "outputs": [],
   "source": []
  }
 ],
 "metadata": {
  "kernelspec": {
   "display_name": "Python 3",
   "language": "python",
   "name": "python3"
  },
  "language_info": {
   "codemirror_mode": {
    "name": "ipython",
    "version": 3
   },
   "file_extension": ".py",
   "mimetype": "text/x-python",
   "name": "python",
   "nbconvert_exporter": "python",
   "pygments_lexer": "ipython3",
   "version": "3.13.0"
  }
 },
 "nbformat": 4,
 "nbformat_minor": 2
}
