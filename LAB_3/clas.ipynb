{
 "cells": [
  {
   "cell_type": "code",
   "execution_count": 1,
   "metadata": {},
   "outputs": [
    {
     "name": "stdout",
     "output_type": "stream",
     "text": [
      "\n"
     ]
    }
   ],
   "source": [
    "class StringN:\n",
    "    \n",
    "    string = \"\"\n",
    "\n",
    "    def getString(self):\n",
    "        self.string = input(\"Write string: \")\n",
    "    \n",
    "    def printString(self):\n",
    "        print(self.string.upper())\n",
    "    \n",
    "\n",
    "s = StringN()\n",
    "s.getString()\n",
    "s.printString()\n"
   ]
  },
  {
   "cell_type": "code",
   "execution_count": 3,
   "metadata": {},
   "outputs": [
    {
     "name": "stdout",
     "output_type": "stream",
     "text": [
      "0\n",
      "10\n"
     ]
    }
   ],
   "source": [
    "class Shape:\n",
    "\n",
    "    area = 0\n",
    "\n",
    "    def printArea(self):\n",
    "        print(self.area)\n",
    "\n",
    "\n",
    "class Square(Shape):\n",
    "    def __init__(self, length):\n",
    "        self.area = length\n",
    "\n",
    "shape = Shape()\n",
    "shape.printArea()\n",
    "\n",
    "s = Square(10)\n",
    "s.printArea()"
   ]
  },
  {
   "cell_type": "code",
   "execution_count": 4,
   "metadata": {},
   "outputs": [
    {
     "name": "stdout",
     "output_type": "stream",
     "text": [
      "200\n"
     ]
    }
   ],
   "source": [
    "class Rectangle(Shape):\n",
    "    def __init__(self, length, width):\n",
    "        self.area = length * width\n",
    "\n",
    "r = Rectangle(10, 20)\n",
    "r.printArea()"
   ]
  },
  {
   "cell_type": "code",
   "execution_count": 10,
   "metadata": {},
   "outputs": [
    {
     "name": "stdout",
     "output_type": "stream",
     "text": [
      "x:  1 y:  4\n",
      "0\n"
     ]
    }
   ],
   "source": [
    "class Point:\n",
    "\n",
    "    x = 0\n",
    "    y = 0\n",
    "\n",
    "    def show(self):\n",
    "        print(\"x: \", self.x, \"y: \", self.y)\n",
    "\n",
    "    def move(self, x, y):\n",
    "        self.x = x\n",
    "        self.y = y\n",
    "    \n",
    "    def dist(self):\n",
    "        pass\n",
    "\n",
    "point1 = Point()\n",
    "point2 = Point()\n",
    "\n",
    "point1.move(1, 4)\n",
    "point2.move(2, 8)\n",
    "point1.show()"
   ]
  },
  {
   "cell_type": "code",
   "execution_count": 12,
   "metadata": {},
   "outputs": [
    {
     "name": "stdout",
     "output_type": "stream",
     "text": [
      "100\n",
      "Insufficient funds\n",
      "100\n"
     ]
    }
   ],
   "source": [
    "class Account:\n",
    "    owner = \"\"\n",
    "    balance = 0\n",
    "\n",
    "    def deposit(self, money):\n",
    "        self.balance = money\n",
    "    def withdraw(self, money):\n",
    "        if(self.balance < money):\n",
    "            print(\"Insufficient funds\")\n",
    "            return 0\n",
    "        self.balance = self.balance - money\n",
    "\n",
    "    def printBalance(self):\n",
    "        print(self.balance)\n",
    "\n",
    "user = Account()\n",
    "user.deposit(100)\n",
    "user.printBalance()\n",
    "user.withdraw(200)\n",
    "user.printBalance()\n"
   ]
  },
  {
   "cell_type": "code",
   "execution_count": 52,
   "metadata": {},
   "outputs": [
    {
     "name": "stdout",
     "output_type": "stream",
     "text": [
      "2\n",
      "3\n",
      "5\n",
      "7\n"
     ]
    }
   ],
   "source": [
    "n = int(input(\"Enter number: \"))\n",
    "list1 = []\n",
    "for i in range(2, n):\n",
    "    list1.append(i)\n",
    "b = filter(lambda x: all([(x % i != 0) for i in range(2, x)]), list1)\n",
    "\n",
    "for i in b:\n",
    "    print(i)"
   ]
  },
  {
   "cell_type": "code",
   "execution_count": null,
   "metadata": {},
   "outputs": [],
   "source": []
  }
 ],
 "metadata": {
  "kernelspec": {
   "display_name": "Python 3",
   "language": "python",
   "name": "python3"
  },
  "language_info": {
   "codemirror_mode": {
    "name": "ipython",
    "version": 3
   },
   "file_extension": ".py",
   "mimetype": "text/x-python",
   "name": "python",
   "nbconvert_exporter": "python",
   "pygments_lexer": "ipython3",
   "version": "3.13.0"
  }
 },
 "nbformat": 4,
 "nbformat_minor": 2
}
