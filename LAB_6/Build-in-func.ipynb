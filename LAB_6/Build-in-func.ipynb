{
 "cells": [
  {
   "cell_type": "code",
   "execution_count": null,
   "metadata": {},
   "outputs": [],
   "source": [
    "import math"
   ]
  },
  {
   "cell_type": "code",
   "execution_count": 3,
   "metadata": {},
   "outputs": [
    {
     "name": "stdout",
     "output_type": "stream",
     "text": [
      "28\n"
     ]
    }
   ],
   "source": [
    "list = [1,2,3,4,5,6,7]\n",
    "print(sum(list))"
   ]
  },
  {
   "cell_type": "code",
   "execution_count": 6,
   "metadata": {},
   "outputs": [
    {
     "name": "stdout",
     "output_type": "stream",
     "text": [
      "Number of lower letter 3\n",
      "Number of lower upper 3\n"
     ]
    }
   ],
   "source": [
    "string = input(\"Enter string: \")\n",
    "number_lower = 0\n",
    "number_upper = 0\n",
    "for i in string:\n",
    "    if(i.islower()):\n",
    "        number_lower += 1\n",
    "    if(i.isupper()):\n",
    "        number_upper += 1\n",
    "    \n",
    "print(\"Number of lower letter\", number_lower)\n",
    "print(\"Number of lower upper\", number_upper)"
   ]
  },
  {
   "cell_type": "code",
   "execution_count": 12,
   "metadata": {},
   "outputs": [
    {
     "name": "stdout",
     "output_type": "stream",
     "text": [
      "malsi\n"
     ]
    }
   ],
   "source": [
    "string = input(\"Enter string: \")\n",
    "print(''.join(reversed(string)))"
   ]
  },
  {
   "cell_type": "code",
   "execution_count": 7,
   "metadata": {},
   "outputs": [
    {
     "name": "stdout",
     "output_type": "stream",
     "text": [
      "2025-03-06 23:38:56.719520\n",
      "2025-03-06 23:38:57.219881\n",
      "5.0\n"
     ]
    }
   ],
   "source": [
    "import time\n",
    "import math\n",
    "import datetime\n",
    "millisecond = 5\n",
    "\n",
    "print(datetime.datetime.now())\n",
    "time.sleep(millisecond/10)  # sleep - встроенная функция time\n",
    "print(datetime.datetime.now())\n",
    "print(math.sqrt(25)) "
   ]
  },
  {
   "cell_type": "code",
   "execution_count": 11,
   "metadata": {},
   "outputs": [
    {
     "name": "stdout",
     "output_type": "stream",
     "text": [
      "True\n"
     ]
    }
   ],
   "source": [
    "def all_true(t):\n",
    "    return all(t)\n",
    "print(all_true((1, 2, 3))) "
   ]
  },
  {
   "cell_type": "code",
   "execution_count": null,
   "metadata": {},
   "outputs": [],
   "source": []
  }
 ],
 "metadata": {
  "kernelspec": {
   "display_name": "Python 3",
   "language": "python",
   "name": "python3"
  },
  "language_info": {
   "codemirror_mode": {
    "name": "ipython",
    "version": 3
   },
   "file_extension": ".py",
   "mimetype": "text/x-python",
   "name": "python",
   "nbconvert_exporter": "python",
   "pygments_lexer": "ipython3",
   "version": "3.13.0"
  }
 },
 "nbformat": 4,
 "nbformat_minor": 2
}
