{
 "cells": [
  {
   "cell_type": "markdown",
   "metadata": {},
   "source": [
    "Convert degrees to radian"
   ]
  },
  {
   "cell_type": "code",
   "execution_count": 36,
   "metadata": {},
   "outputs": [
    {
     "name": "stdout",
     "output_type": "stream",
     "text": [
      "0.017453292519943295\n"
     ]
    }
   ],
   "source": [
    "import math\n",
    "x = int(input())\n",
    "print (math.radians(x))"
   ]
  },
  {
   "cell_type": "markdown",
   "metadata": {},
   "source": [
    "Area of trapezoid"
   ]
  },
  {
   "cell_type": "code",
   "execution_count": 34,
   "metadata": {},
   "outputs": [
    {
     "name": "stdout",
     "output_type": "stream",
     "text": [
      "Area is:  27.5\n"
     ]
    }
   ],
   "source": [
    "h = float(input(\"Height\"))\n",
    "a = float(input(\"a: \"))\n",
    "b = float(input(\"b: \"))\n",
    "print (\"Area is: \", h*(a+b)/2)"
   ]
  },
  {
   "cell_type": "markdown",
   "metadata": {},
   "source": [
    "Area of the polygon"
   ]
  },
  {
   "cell_type": "code",
   "execution_count": null,
   "metadata": {},
   "outputs": [
    {
     "name": "stdout",
     "output_type": "stream",
     "text": [
      "Area is:  625.0\n"
     ]
    }
   ],
   "source": [
    "N = float(input(\"Number of sides: \"))\n",
    "L = float(input(\"Length of a side: \"))\n",
    "print (\"Area is: \", (N*pow(L, 2))/4*(math.cos(math.pi/N)/math.sin(math.pi/N)))"
   ]
  },
  {
   "cell_type": "markdown",
   "metadata": {},
   "source": [
    "Area of parallelogram"
   ]
  },
  {
   "cell_type": "code",
   "execution_count": 32,
   "metadata": {},
   "outputs": [
    {
     "name": "stdout",
     "output_type": "stream",
     "text": [
      "Area of parallelogram:  30.0\n"
     ]
    }
   ],
   "source": [
    "H = float(input(\"Height: \"))\n",
    "L = float(input(\"Length: \"))\n",
    "print(\"Area of parallelogram: \", H*L)"
   ]
  }
 ],
 "metadata": {
  "kernelspec": {
   "display_name": "Python 3",
   "language": "python",
   "name": "python3"
  },
  "language_info": {
   "codemirror_mode": {
    "name": "ipython",
    "version": 3
   },
   "file_extension": ".py",
   "mimetype": "text/x-python",
   "name": "python",
   "nbconvert_exporter": "python",
   "pygments_lexer": "ipython3",
   "version": "3.13.0"
  }
 },
 "nbformat": 4,
 "nbformat_minor": 2
}
