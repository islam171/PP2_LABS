{
 "cells": [
  {
   "cell_type": "code",
   "execution_count": 2,
   "metadata": {},
   "outputs": [
    {
     "name": "stdout",
     "output_type": "stream",
     "text": [
      "2025-02-10\n"
     ]
    }
   ],
   "source": [
    "import datetime\n",
    "\n",
    "x = datetime.date.today() - datetime.timedelta(5)\n",
    "\n",
    "print(x)"
   ]
  },
  {
   "cell_type": "code",
   "execution_count": 3,
   "metadata": {},
   "outputs": [
    {
     "name": "stdout",
     "output_type": "stream",
     "text": [
      "Yesterday:  2025-02-07\n",
      "Today:  2025-02-08\n",
      "Tomorrow:  2025-02-09\n"
     ]
    }
   ],
   "source": [
    "import datetime\n",
    "\n",
    "y = datetime.date.today() - datetime.timedelta(1)\n",
    "t = datetime.date.today()\n",
    "x = datetime.date.today() + datetime.timedelta(1)\n",
    "\n",
    "print(\"Yesterday: \", y)\n",
    "print(\"Today: \", t)\n",
    "print(\"Tomorrow: \", x)"
   ]
  },
  {
   "cell_type": "code",
   "execution_count": null,
   "metadata": {},
   "outputs": [
    {
     "name": "stdout",
     "output_type": "stream",
     "text": [
      "2025-02-08 23:31:40\n",
      "2025-02-08 23:31:40.158673\n"
     ]
    }
   ],
   "source": [
    "import datetime\n",
    "\n",
    "x = datetime.datetime.now()\n",
    "print(x.strftime(\"%Y-%m-%d %H:%M:%S\"))"
   ]
  },
  {
   "cell_type": "code",
   "execution_count": 21,
   "metadata": {},
   "outputs": [
    {
     "name": "stdout",
     "output_type": "stream",
     "text": [
      "2388960000.0\n"
     ]
    }
   ],
   "source": [
    "import datetime \n",
    "\n",
    "x = datetime.datetime(2021, 1, 20)\n",
    "y = datetime.datetime(1945, 5, 9)\n",
    "\n",
    "d = x - y\n",
    "print(d.total_seconds())"
   ]
  },
  {
   "cell_type": "code",
   "execution_count": null,
   "metadata": {},
   "outputs": [],
   "source": []
  }
 ],
 "metadata": {
  "kernelspec": {
   "display_name": "Python 3",
   "language": "python",
   "name": "python3"
  },
  "language_info": {
   "codemirror_mode": {
    "name": "ipython",
    "version": 3
   },
   "file_extension": ".py",
   "mimetype": "text/x-python",
   "name": "python",
   "nbconvert_exporter": "python",
   "pygments_lexer": "ipython3",
   "version": "3.13.0"
  }
 },
 "nbformat": 4,
 "nbformat_minor": 2
}
