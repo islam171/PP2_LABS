{
 "cells": [
  {
   "cell_type": "markdown",
   "metadata": {},
   "source": [
    "1.Write a Python program that matches a string that has an 'a' followed by zero or more 'b''s."
   ]
  },
  {
   "cell_type": "code",
   "execution_count": 2,
   "metadata": {},
   "outputs": [
    {
     "name": "stdout",
     "output_type": "stream",
     "text": [
      "['abb', 'a', 'ab']\n"
     ]
    }
   ],
   "source": [
    "import re\n",
    "text=\"abbhello world orange ab\"\n",
    "match = re.findall(r\"ab*\", text)\n",
    "print(match)"
   ]
  },
  {
   "cell_type": "markdown",
   "metadata": {},
   "source": [
    "2.Write a Python program that matches a string that has an 'a' followed by two to three 'b'."
   ]
  },
  {
   "cell_type": "code",
   "execution_count": 69,
   "metadata": {},
   "outputs": [
    {
     "name": "stdout",
     "output_type": "stream",
     "text": [
      "['abbb', 'abb']\n"
     ]
    }
   ],
   "source": [
    "text = \"abbbdsdf absafsd dadssaabb\"\n",
    "match = re.findall(r\"ab{2,3}\", text)\n",
    "print(match)"
   ]
  },
  {
   "cell_type": "markdown",
   "metadata": {},
   "source": [
    "3.Write a Python program to find sequences of lowercase letters joined with a underscore."
   ]
  },
  {
   "cell_type": "code",
   "execution_count": 3,
   "metadata": {},
   "outputs": [
    {
     "name": "stdout",
     "output_type": "stream",
     "text": [
      "['__loawer_', '_b']\n"
     ]
    }
   ],
   "source": [
    "text = \"__loawer_ _HELLO_ _b _A _\"\n",
    "match = re.findall(\"_*[a-z]{1,}_*\", text)\n",
    "print(match)"
   ]
  },
  {
   "cell_type": "markdown",
   "metadata": {},
   "source": [
    "4.Write a Python program to find the sequences of one upper case letter followed by lower case letters."
   ]
  },
  {
   "cell_type": "code",
   "execution_count": 30,
   "metadata": {},
   "outputs": [
    {
     "name": "stdout",
     "output_type": "stream",
     "text": [
      "['Write', 'Python', 'Find', 'Of', 'Letter']\n"
     ]
    }
   ],
   "source": [
    "text = \"4.Write a Python program to Find the sequences Of one upper case Letter followed by lower case letters.\"\n",
    "match = re.findall(\"[A-Z]{1}[a-z]+\", text)\n",
    "print(match)"
   ]
  },
  {
   "cell_type": "markdown",
   "metadata": {},
   "source": [
    "5.Write a Python program that matches a string that has an 'a' followed by anything, ending in 'b'."
   ]
  },
  {
   "cell_type": "code",
   "execution_count": 56,
   "metadata": {},
   "outputs": [
    {
     "name": "stdout",
     "output_type": "stream",
     "text": [
      "['fdsfasdfb', 'sfdsdfadsb']\n"
     ]
    }
   ],
   "source": [
    "text = \"adsfsdfp fdsfasdfb fsdfsdfsdb sfdsdfadsb\"\n",
    "match = re.findall(\"[a-z]*[A-Z]*a[a-z]*b\", text)\n",
    "print(match)"
   ]
  },
  {
   "cell_type": "markdown",
   "metadata": {},
   "source": [
    "6.Write a Python program to replace all occurrences of space, comma, or dot with a colon."
   ]
  },
  {
   "cell_type": "code",
   "execution_count": 58,
   "metadata": {},
   "outputs": [
    {
     "name": "stdout",
     "output_type": "stream",
     "text": [
      "adsfsdfp:::fdsfasdfb::fsdfsdfsdb::sfdsdfadsb\n"
     ]
    }
   ],
   "source": [
    "text = \"adsfsdfp,. fdsfasdfb. fsdfsdfsdb, sfdsdfadsb\"\n",
    "match = re.sub(\"[, .]\",':', text)\n",
    "print(match)"
   ]
  },
  {
   "cell_type": "markdown",
   "metadata": {},
   "source": [
    "7.Write a python program to convert snake case string to camel case string."
   ]
  },
  {
   "cell_type": "code",
   "execution_count": 118,
   "metadata": {},
   "outputs": [
    {
     "name": "stdout",
     "output_type": "stream",
     "text": [
      "helloWorldHello\n"
     ]
    }
   ],
   "source": [
    "text = \"hello_world_hello\"\n",
    "def func(match):\n",
    "    return match.group(1).upper()\n",
    "match = re.sub(r\"_([a-z])\",func, text)\n",
    "print(match)"
   ]
  },
  {
   "cell_type": "markdown",
   "metadata": {},
   "source": [
    "Write a Python program to split a string at uppercase letters."
   ]
  },
  {
   "cell_type": "code",
   "execution_count": null,
   "metadata": {},
   "outputs": [
    {
     "name": "stdout",
     "output_type": "stream",
     "text": [
      "['the', 'ain', 'n', 'pain']\n"
     ]
    }
   ],
   "source": [
    "txt = \"heRainInSpain\"\n",
    "x = re.split(\"[A-Z]\", txt)\n",
    "print(x)"
   ]
  },
  {
   "cell_type": "markdown",
   "metadata": {},
   "source": [
    "9.Write a Python program to insert spaces between words starting with capital letters."
   ]
  },
  {
   "cell_type": "code",
   "execution_count": 195,
   "metadata": {},
   "outputs": [
    {
     "name": "stdout",
     "output_type": "stream",
     "text": [
      "Write a Python program To  Insert spaces Between  Words starting with capital letters.\n"
     ]
    }
   ],
   "source": [
    "txt = \"Write a Python program To Insert spaces Between Words starting with capital letters.\"\n",
    "x = re.sub(\"([A-Z][a-z]*) ([A-Z][a-z]*)\", \"\\\\1  \\\\2\", txt)\n",
    "print(x)"
   ]
  },
  {
   "cell_type": "markdown",
   "metadata": {},
   "source": [
    "10.Write a Python program to convert a given camel case string to snake case."
   ]
  },
  {
   "cell_type": "code",
   "execution_count": 192,
   "metadata": {},
   "outputs": [
    {
     "name": "stdout",
     "output_type": "stream",
     "text": [
      "hello_world_hello\n"
     ]
    }
   ],
   "source": [
    "str1 = \"helloWorldHello\"\n",
    "def func(match):\n",
    "    return match.group(1).lower()\n",
    "m = re.sub(\"(?=[A-Z])\", '_', str1)\n",
    "m = re.sub(\"([A-Z])\", func, m)\n",
    "print(m)"
   ]
  }
 ],
 "metadata": {
  "kernelspec": {
   "display_name": "Python 3",
   "language": "python",
   "name": "python3"
  },
  "language_info": {
   "codemirror_mode": {
    "name": "ipython",
    "version": 3
   },
   "file_extension": ".py",
   "mimetype": "text/x-python",
   "name": "python",
   "nbconvert_exporter": "python",
   "pygments_lexer": "ipython3",
   "version": "3.13.0"
  }
 },
 "nbformat": 4,
 "nbformat_minor": 2
}
